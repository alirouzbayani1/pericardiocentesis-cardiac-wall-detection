{
  "nbformat": 4,
  "nbformat_minor": 0,
  "metadata": {
    "colab": {
      "name": "final_edge_detection.ipynb",
      "private_outputs": true,
      "provenance": [],
      "include_colab_link": true
    },
    "kernelspec": {
      "name": "python3",
      "display_name": "Python 3.8.10 64-bit"
    },
    "language_info": {
      "name": "python",
      "version": "3.8.10"
    },
    "accelerator": "GPU",
    "interpreter": {
      "hash": "31f2aee4e71d21fbe5cf8b01ff0e069b9275f58929596ceb00d14d90e3e16cd6"
    }
  },
  "cells": [
    {
      "cell_type": "markdown",
      "metadata": {
        "id": "view-in-github",
        "colab_type": "text"
      },
      "source": [
        "<a href=\"https://colab.research.google.com/github/alirouzbayani1/pericardiocentesis-cardiac-wall-detection/blob/main/wall_detection.ipynb\" target=\"_parent\"><img src=\"https://colab.research.google.com/assets/colab-badge.svg\" alt=\"Open In Colab\"/></a>"
      ]
    },
    {
      "cell_type": "code",
      "metadata": {
        "id": "qDpulDCXZk4T"
      },
      "source": [
        "!git clone https://github.com/alirouzbayani1/pericardiocentesis-cardiac-wall-detection.git"
      ],
      "execution_count": null,
      "outputs": []
    },
    {
      "cell_type": "code",
      "metadata": {
        "id": "-nUmgcS7IdMJ"
      },
      "source": [
        "!wget https://github.com/tensorpack/tensorpack/blob/master/examples/HED/hed.py\n",
        "!wget http://models.tensorpack.com/HED/HED_reproduced.npz"
      ],
      "execution_count": null,
      "outputs": []
    },
    {
      "cell_type": "code",
      "metadata": {
        "id": "MN3srZ8CZhNs"
      },
      "source": [
        "import cv2\n",
        "import os"
      ],
      "execution_count": null,
      "outputs": []
    },
    {
      "cell_type": "code",
      "metadata": {
        "id": "oOqKU26sZhNt"
      },
      "source": [
        "def video_to_frames(video_path, output_path):\n",
        "    if not os.path.exists(output_path):\n",
        "        os.makedirs(output_path)\n",
        "    vidcap = cv2.VideoCapture(video_path)\n",
        "    video_name = os.path.basename(os.path.splitext(video_path)[0])\n",
        "    success, image = vidcap.read()\n",
        "    count = 0\n",
        "    while success:\n",
        "        cv2.imwrite(f\"{output_path}{video_name}_frame{count}.jpg\", image)     # save frame as JPEG file      \n",
        "        success, image = vidcap.read()\n",
        "        count += 1\n",
        "def videos_to_frames(videos_path, output_path):\n",
        "    for filename in os.listdir(videos_path):\n",
        "        video_to_frames(videos_path + filename, output_path)\n"
      ],
      "execution_count": null,
      "outputs": []
    },
    {
      "cell_type": "code",
      "metadata": {
        "id": "YbDvucBeZhNu"
      },
      "source": [
        "videos_to_frames('./sample_videos/', './sample_frames/')"
      ],
      "execution_count": null,
      "outputs": []
    },
    {
      "cell_type": "code",
      "metadata": {
        "id": "-lglespDJE7g"
      },
      "source": [
        "!./hed.py --load HED_reproduced.npz --run ./sample_frames/a_frame0.jpg"
      ],
      "execution_count": null,
      "outputs": []
    },
    {
      "cell_type": "code",
      "metadata": {
        "id": "8XI5oQ2iZhNv"
      },
      "source": [
        ""
      ],
      "execution_count": null,
      "outputs": []
    }
  ]
}