{
  "nbformat": 4,
  "nbformat_minor": 0,
  "metadata": {
    "colab": {
      "name": "wall_detection.ipynb",
      "private_outputs": true,
      "provenance": [],
      "include_colab_link": true
    },
    "kernelspec": {
      "name": "python3",
      "display_name": "Python 3"
    },
    "language_info": {
      "name": "python"
    },
    "accelerator": "GPU"
  },
  "cells": [
    {
      "cell_type": "markdown",
      "metadata": {
        "id": "view-in-github",
        "colab_type": "text"
      },
      "source": [
        "<a href=\"https://colab.research.google.com/github/alirouzbayani1/pericardiocentesis-cardiac-wall-detection/blob/main/wall_detection.ipynb\" target=\"_parent\"><img src=\"https://colab.research.google.com/assets/colab-badge.svg\" alt=\"Open In Colab\"/></a>"
      ]
    },
    {
      "cell_type": "code",
      "metadata": {
        "id": "g-IEzXuNbKaR"
      },
      "source": [
        "!git clone https://github.com/alirouzbayani1/pericardiocentesis-cardiac-wall-detection.git"
      ],
      "execution_count": null,
      "outputs": []
    },
    {
      "cell_type": "code",
      "metadata": {
        "id": "jhkRuyJacKJj"
      },
      "source": [
        "%cd pericardiocentesis-cardiac-wall-detection"
      ],
      "execution_count": null,
      "outputs": []
    },
    {
      "cell_type": "code",
      "metadata": {
        "id": "6MWsTVceawoJ"
      },
      "source": [
        "!wget http://models.tensorpack.com/HED/HED_reproduced.npz"
      ],
      "execution_count": null,
      "outputs": []
    },
    {
      "cell_type": "code",
      "metadata": {
        "id": "_MFPu0Jja1Ne"
      },
      "source": [
        "import cv2\n",
        "import re\n",
        "import os\n",
        "from google.colab.patches import cv2_imshow\n",
        "import numpy as np"
      ],
      "execution_count": null,
      "outputs": []
    },
    {
      "cell_type": "code",
      "metadata": {
        "id": "AUSiErQ-cgXy"
      },
      "source": [
        "videos_path = './sample_videos/'\n",
        "frames_path = './sample_frames/'\n",
        "model_path = './HED_reproduced.npz'"
      ],
      "execution_count": null,
      "outputs": []
    },
    {
      "cell_type": "code",
      "metadata": {
        "id": "3QNwSxZza274"
      },
      "source": [
        "def video_to_frames(video_path, output_path):\n",
        "    if not os.path.exists(output_path):\n",
        "        os.makedirs(output_path)\n",
        "    vidcap = cv2.VideoCapture(video_path)\n",
        "    success, image = vidcap.read()\n",
        "    count = 0\n",
        "    while success:\n",
        "        cv2.imwrite(output_path + \"/frame%d.jpg\" % count, image)     # save frame as JPEG file      \n",
        "        success, image = vidcap.read()\n",
        "        count += 1\n",
        "def videos_to_frames(videos_path, output_path):\n",
        "    for filename in os.listdir(videos_path):\n",
        "        output_dir = filename.split('.')[0]\n",
        "        output_dir_path = os.path.join(output_path, output_dir)\n",
        "        input = os.path.join(videos_path, filename)\n",
        "        video_to_frames(input, output_dir_path)\n",
        "\n",
        "videos_to_frames(videos_path, frames_path)"
      ],
      "execution_count": null,
      "outputs": []
    },
    {
      "cell_type": "code",
      "metadata": {
        "id": "Mk9CJ62PoIM9"
      },
      "source": [
        "!zip -r sample_frames.zip sample_frames"
      ],
      "execution_count": null,
      "outputs": []
    },
    {
      "cell_type": "code",
      "metadata": {
        "id": "NXZ99MV1dhey"
      },
      "source": [
        "!pip install tensorpack\n",
        "from hed import *"
      ],
      "execution_count": null,
      "outputs": []
    },
    {
      "cell_type": "code",
      "metadata": {
        "id": "IJ1mJEio_AQb"
      },
      "source": [
        "def hed_func(model_path, input_img=None, input_path=None, output_path=None):\n",
        "    pred_config = PredictConfig(\n",
        "        model=Model(),\n",
        "        session_init=SmartInit(model_path),\n",
        "        input_names=['image'],\n",
        "        output_names=['output' + str(k) for k in range(1, 7)])\n",
        "    predictor = OfflinePredictor(pred_config)\n",
        "    if input_img is not None:\n",
        "      im = input_img\n",
        "    else:\n",
        "      im = cv2.imread(input_path)\n",
        "    assert im is not None\n",
        "    im = cv2.resize(\n",
        "        im, (im.shape[1] // 16 * 16, im.shape[0] // 16 * 16)\n",
        "    )[None, :, :, :].astype('float32')\n",
        "    outputs = predictor(im)\n",
        "    pred = outputs[5][0] * 255\n",
        "    if output_path:\n",
        "        cv2.imwrite(output_path, pred)\n",
        "    else:\n",
        "        return pred"
      ],
      "execution_count": null,
      "outputs": []
    },
    {
      "cell_type": "code",
      "metadata": {
        "id": "cLZF8Ke-bDTT"
      },
      "source": [
        "image_path='/content/pericardiocentesis-cardiac-wall-detection/sample_frames/d/frame2.jpg'"
      ],
      "execution_count": null,
      "outputs": []
    },
    {
      "cell_type": "code",
      "metadata": {
        "id": "e3Bguy4ICT1T"
      },
      "source": [
        "def preprocess(image_path, clahe):\n",
        "\n",
        "  orig_img = cv2.imread(image_path)\n",
        "  orig_img=orig_img[20:512-20,20:512-20]\n",
        "  # Blur\n",
        "  # blured = cv2.GaussianBlur(orig_img, (31, 31), 0)\n",
        "  \n",
        "  # CLAHE\n",
        "  gray_orig = cv2.cvtColor(orig_img, cv2.COLOR_BGR2GRAY)\n",
        "  framet = clahe.apply(gray_orig)\n",
        "  rgb_clahe = cv2.cvtColor(framet, cv2.COLOR_GRAY2RGB)\n",
        "  cv2_imshow(rgb_clahe)\n",
        "\n",
        "  # HED\n",
        "  # hed_img = hed_func(model_path, input_img=rgb_clahe)\n",
        "\n",
        "  # Canny\n",
        "  canny_img = cv2.Canny(orig_img, 30, 60)\n",
        "\n",
        "  return canny_img\n",
        "  \n",
        "def inpaint(image_path, hed_img, clahe):\n",
        "\n",
        "  orig_img = cv2.imread(image_path)\n",
        "  orig_img=orig_img[20:512-20,20:512-20]\n",
        "\n",
        "  cv2_imshow(hed_img)\n",
        "\n",
        "  # Binary Threshold\n",
        "  _, hed_binary = cv2.threshold(hed_img, 25, 255, cv2.THRESH_BINARY)\n",
        "\n",
        "  # Dilate\n",
        "  dilated = cv2.dilate(hed_binary, np.ones([9,9]), 1)\n",
        "  cv2_imshow(dilated)\n",
        "\n",
        "\n",
        "  # Inpainting\n",
        "  inpaint = cv2.inpaint(orig_img, dilated, 2, cv2.INPAINT_NS)\n",
        "  cv2_imshow(inpaint)\n",
        "\n",
        "  # Gray\n",
        "  gray_inpaint = cv2.cvtColor(inpaint, cv2.COLOR_BGR2GRAY)\n",
        "\n",
        "  # CLAHE\n",
        "  # framet = clahe.apply(gray_inpaint)\n",
        "\n",
        "  return gray_inpaint\n",
        "\n",
        "\n"
      ],
      "execution_count": null,
      "outputs": []
    },
    {
      "cell_type": "code",
      "metadata": {
        "id": "gO-CtaFXeiaS"
      },
      "source": [
        "clahe = cv2.createCLAHE(clipLimit=2.0, tileGridSize=(10,10))\n",
        "ans=preprocess(image_path, clahe);\n",
        "cv2_imshow(ans)\n",
        "in_ans=inpaint(image_path, ans, clahe);\n",
        "cv2_imshow(in_ans)\n"
      ],
      "execution_count": null,
      "outputs": []
    },
    {
      "cell_type": "code",
      "metadata": {
        "id": "eiAAg3djCgsq"
      },
      "source": [
        "def frame_diffs(new_frame_path, clahe, prev_frame=None):\n",
        "  preprocessed_img = preprocess(new_frame_path, clahe)\n",
        "  inpainted = inpaint(new_frame_path, preprocessed_img, clahe)\n",
        "  if prev_frame is not None:\n",
        "    diff = cv2.subtract(prev_frame, inpainted)\n",
        "    clahe_diff = clahe.apply(diff)\n",
        "    # cv2_imshow(clahe_diff)\n",
        "    return diff\n",
        "  else:\n",
        "    return inpainted\n",
        "\n",
        "def wrapper(frames_dir_path):\n",
        "  clahe = cv2.createCLAHE(clipLimit=2.0, tileGridSize=(8,8))\n",
        "  outputs = []\n",
        "  for i, filename in enumerate(sorted(os.listdir(frames_dir_path), key=lambda f: int(re.sub('\\D', '', f)))):\n",
        "    image_path = os.path.join(frames_dir_path, filename)\n",
        "    if i == 0:\n",
        "      tmp_frame = frame_diffs(image_path, clahe)\n",
        "    else:\n",
        "      tmp_frame = frame_diffs(image_path, clahe=clahe, prev_frame=tmp_frame)\n",
        "    outputs.append(tmp_frame)\n",
        "\n",
        "  return outputs"
      ],
      "execution_count": null,
      "outputs": []
    },
    {
      "cell_type": "code",
      "metadata": {
        "id": "Gu_JF2-az2pP"
      },
      "source": [
        "for dir in os.listdir('./sample_frames/'):\n",
        "  dir_path = os.path.join('./sample_frames/', dir)\n",
        "  for i, filename in enumerate(sorted(os.listdir(dir_path), key=lambda f: int(re.sub('\\D', '', f)))):\n",
        "    image_path = os.path.join(dir_path, filename)\n",
        "    img = cv2.imread(image_path)\n",
        "    hed_result = hed_func(model_path, input_img=img)\n",
        "    if not os.path.exists(f\"./hed_outputs_{dir}\"):\n",
        "      os.makedirs(f\"./hed_outputs_{dir}\")\n",
        "    cv2.imwrite(f'./hed_outputs_{dir}/frame{i}.jpg', hed_result)"
      ],
      "execution_count": null,
      "outputs": []
    },
    {
      "cell_type": "code",
      "metadata": {
        "id": "7r9bli7HXp7t"
      },
      "source": [
        "clahe = cv2.createCLAHE(clipLimit=2.0, tileGridSize=(8,8))\n",
        "for dir in os.listdir('./sample_frames/'):\n",
        "  dir_path = os.path.join('./sample_frames/', dir)\n",
        "  for i, filename in enumerate(sorted(os.listdir(dir_path), key=lambda f: int(re.sub('\\D', '', f)))):\n",
        "    image_path = os.path.join(dir_path, filename)\n",
        "    preprocessed = preprocess(image_path, clahe)\n",
        "    inpainted = inpaint(image_path, preprocessed, clahe)\n",
        "    if not os.path.exists(f\"./inpainted_outputs_{dir}\"):\n",
        "      os.makedirs(f\"./inpainted_outputs_{dir}\")\n",
        "    cv2.imwrite(f'./inpainted_outputs_{dir}/frame{i}.jpg', inpainted)"
      ],
      "execution_count": null,
      "outputs": []
    },
    {
      "cell_type": "code",
      "metadata": {
        "id": "S5W46Shexq5Y"
      },
      "source": [
        "dir_path = './sample_frames/d'\n",
        "for i, filename in enumerate(sorted(os.listdir(dir_path), key=lambda f: int(re.sub('\\D', '', f)))):\n",
        "  image_path = os.path.join(dir_path, filename)\n",
        "  preprocessed = preprocess(image_path, clahe)\n",
        "  inpainted = inpaint(image_path, preprocessed, clahe)\n",
        "  if not os.path.exists(f\"./inpainted_outputs_d\"):\n",
        "    os.makedirs(f\"./inpainted_outputs_d\")\n",
        "  cv2.imwrite(f'./inpainted_outputs_d/frame{i}.jpg', inpainted)"
      ],
      "execution_count": null,
      "outputs": []
    },
    {
      "cell_type": "code",
      "metadata": {
        "id": "kN7aRhtca39y"
      },
      "source": [
        "!zip -r hed_outputs_*{.zip,}"
      ],
      "execution_count": null,
      "outputs": []
    },
    {
      "cell_type": "code",
      "metadata": {
        "id": "3glrjEvjKvCx"
      },
      "source": [
        "outputs = main_loop('./sample_frames/b/')\n",
        "for i, output in enumerate(outputs):\n",
        "  cv2.imwrite(\"./outputs/frame%d\" % i, output)"
      ],
      "execution_count": null,
      "outputs": []
    },
    {
      "cell_type": "code",
      "metadata": {
        "id": "qJcBI6_ia8gg"
      },
      "source": [
        "out_image = hed_func('./sample_frames/a/frame0.jpg', model_path)\n",
        "cv2_imshow(out_image)"
      ],
      "execution_count": null,
      "outputs": []
    },
    {
      "cell_type": "code",
      "metadata": {
        "id": "gJjR1AYstQy3"
      },
      "source": [
        "!python ./hed.py --load ./HED_reproduced.npz --run ./sample_frames/a/frame0.jpg"
      ],
      "execution_count": null,
      "outputs": []
    },
    {
      "cell_type": "code",
      "metadata": {
        "id": "mWInf5NLA5FZ"
      },
      "source": [
        ""
      ],
      "execution_count": null,
      "outputs": []
    }
  ]
}